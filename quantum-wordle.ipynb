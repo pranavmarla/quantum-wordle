{
 "cells": [
  {
   "cell_type": "markdown",
   "id": "b978ee2d-a5d4-401f-950a-0927b427504b",
   "metadata": {},
   "source": [
    "# Capstone Project: Quantum Wordle"
   ]
  },
  {
   "cell_type": "code",
   "execution_count": 1,
   "id": "8b1c6867-12b6-489e-92d1-b1fa2cea49e1",
   "metadata": {
    "tags": []
   },
   "outputs": [
    {
     "name": "stdout",
     "output_type": "stream",
     "text": [
      "Hey\n"
     ]
    }
   ],
   "source": [
    "print('Hey')"
   ]
  }
 ],
 "metadata": {
  "kernelspec": {
   "display_name": "Python 3 (ipykernel)",
   "language": "python",
   "name": "python3"
  },
  "language_info": {
   "codemirror_mode": {
    "name": "ipython",
    "version": 3
   },
   "file_extension": ".py",
   "mimetype": "text/x-python",
   "name": "python",
   "nbconvert_exporter": "python",
   "pygments_lexer": "ipython3",
   "version": "3.10.8"
  },
  "widgets": {
   "application/vnd.jupyter.widget-state+json": {
    "state": {},
    "version_major": 2,
    "version_minor": 0
   }
  }
 },
 "nbformat": 4,
 "nbformat_minor": 5
}
