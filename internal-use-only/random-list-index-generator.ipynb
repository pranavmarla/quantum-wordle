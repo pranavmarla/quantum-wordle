{
 "cells": [
  {
   "cell_type": "code",
   "execution_count": 48,
   "id": "96265741-2559-4929-bc89-853bb6d7ecab",
   "metadata": {
    "tags": []
   },
   "outputs": [
    {
     "data": {
      "text/plain": [
       "3"
      ]
     },
     "execution_count": 48,
     "metadata": {},
     "output_type": "execute_result"
    }
   ],
   "source": [
    "from math import ceil, log2\n",
    "from qiskit import Aer, execute, QuantumCircuit\n",
    "\n",
    "# Backend used to execute quantum circuits\n",
    "QUANTUM_BACKEND = Aer.get_backend('qasm_simulator')\n",
    "\n",
    "def random_list_index_generator(list_size, quantum_backend=QUANTUM_BACKEND):\n",
    "    \"\"\"For a list containing list_size items, randomly generate a list index (i.e. an integer from 0 to list_size-1)\"\"\"\n",
    "\n",
    "    # Number of qubits needed to represent an integer from 0 to list_size-1 in binary\n",
    "    # Eg. 7 (in decimal) = 111 (in binary)\n",
    "    num_qubits = num_classical_bits = ceil(log2(list_size))\n",
    "    random_num_circuit = QuantumCircuit(num_qubits, num_classical_bits)\n",
    "\n",
    "    qubit_indices = range(num_qubits)\n",
    "    classical_bit_indices = range(num_classical_bits)\n",
    "\n",
    "    # Put all qubits into superposition\n",
    "    for qubit_index in qubit_indices:\n",
    "        random_num_circuit.h(qubit_index)\n",
    "    \n",
    "    # Measure all qubits\n",
    "    random_num_circuit.measure(qubit_indices, classical_bit_indices)\n",
    "    \n",
    "    # return random_num_circuit\n",
    "\n",
    "    # Execute circuit\n",
    "    job = execute(random_num_circuit, backend=quantum_backend, shots=1)\n",
    "    result = job.result()\n",
    "    counts = result.get_counts()\n",
    "    # Since we only ran one shot above, we already know that we only have one measured value\n",
    "    # Eg. '111'\n",
    "    measured_binary_value_string = list(counts.keys())[0]\n",
    "    # Eg. 7\n",
    "    measured_decimal_value = int(measured_binary_value_string, base=2)\n",
    "\n",
    "    return measured_decimal_value\n",
    "\n",
    "# random_num_circuit = random_list_index_generator(8)\n",
    "# random_num_circuit.draw()\n",
    "\n",
    "random_list_index_generator(8)"
   ]
  }
 ],
 "metadata": {
  "kernelspec": {
   "display_name": "Python 3 (ipykernel)",
   "language": "python",
   "name": "python3"
  },
  "language_info": {
   "codemirror_mode": {
    "name": "ipython",
    "version": 3
   },
   "file_extension": ".py",
   "mimetype": "text/x-python",
   "name": "python",
   "nbconvert_exporter": "python",
   "pygments_lexer": "ipython3",
   "version": "3.10.8"
  },
  "widgets": {
   "application/vnd.jupyter.widget-state+json": {
    "state": {},
    "version_major": 2,
    "version_minor": 0
   }
  }
 },
 "nbformat": 4,
 "nbformat_minor": 5
}
