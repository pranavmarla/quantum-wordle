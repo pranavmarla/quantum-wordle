{
 "cells": [
  {
   "cell_type": "code",
   "execution_count": 12,
   "id": "083159e9-8e2b-459e-9b85-bf41f5f82ee1",
   "metadata": {
    "tags": []
   },
   "outputs": [],
   "source": [
    "from qiskit import Aer, execute, QuantumCircuit\n",
    "from qiskit.visualization import plot_distribution"
   ]
  },
  {
   "cell_type": "code",
   "execution_count": 73,
   "id": "1f933ae5-2a57-484d-a402-907f3cd595c8",
   "metadata": {
    "tags": []
   },
   "outputs": [
    {
     "data": {
      "image/png": "[encoded data removed]",
      "text/plain": [
       "<Figure size 185.453x200.667 with 1 Axes>"
      ]
     },
     "execution_count": 73,
     "metadata": {},
     "output_type": "execute_result"
    }
   ],
   "source": [
    "num_qubits = 1\n",
    "num_cbits = 1\n",
    "qc = QuantumCircuit(num_qubits, num_cbits)\n",
    "\n",
    "# Eg. {0:0, 1:1}\n",
    "measured_qubit_index_to_output_cbit_index = {q:c for (q, c) in zip(range(num_qubits), range(num_cbits))}\n",
    "# Eg. [0, 1]\n",
    "measured_qubit_indices = list(measured_qubit_index_to_output_cbit_index.keys())\n",
    "# Eg. [0, 1]\n",
    "output_cbit_indices = list(measured_qubit_index_to_output_cbit_index.values())\n",
    "# qc.measure([0, 1], [0, 1])\n",
    "qc.measure(measured_qubit_indices, output_cbit_indices)\n",
    "\n",
    "qc.draw()"
   ]
  },
  {
   "cell_type": "markdown",
   "id": "40c3fcf2-d7fb-4074-924d-b732242c6b1d",
   "metadata": {},
   "source": [
    "# **Running circuit many times, and graphing the probability distribution of the various results**"
   ]
  },
  {
   "cell_type": "code",
   "execution_count": 74,
   "id": "d4de56d2-8ad8-4a55-93a7-878c169f1fea",
   "metadata": {
    "tags": []
   },
   "outputs": [
    {
     "data": {
      "image/png": "[encoded data removed]",
      "text/plain": [
       "<Figure size 700x500 with 1 Axes>"
      ]
     },
     "execution_count": 74,
     "metadata": {},
     "output_type": "execute_result"
    }
   ],
   "source": [
    "# Simulate using QASM\n",
    "backend = Aer.get_backend('qasm_simulator')\n",
    "job = execute(qc, backend=backend, shots=1024)\n",
    "result = job.result()\n",
    "counts = result.get_counts()\n",
    "\n",
    "plot_distribution(counts)"
   ]
  },
  {
   "cell_type": "markdown",
   "id": "666cfce8-a98d-4fb5-932e-f815884e8a05",
   "metadata": {},
   "source": [
    "# **Running circuit *once*, and getting the random result from that one measurement**"
   ]
  },
  {
   "cell_type": "code",
   "execution_count": 81,
   "id": "0a3594e5-7d58-491a-9503-8c11466b51ea",
   "metadata": {
    "tags": []
   },
   "outputs": [
    {
     "data": {
      "image/png": "[encoded data removed]",
      "text/plain": [
       "<Figure size 185.453x200.667 with 1 Axes>"
      ]
     },
     "execution_count": 81,
     "metadata": {},
     "output_type": "execute_result"
    }
   ],
   "source": [
    "num_qubits = 1\n",
    "num_cbits = 1\n",
    "qc = QuantumCircuit(num_qubits, num_cbits)\n",
    "\n",
    "# qc.x(0)\n",
    "\n",
    "# Eg. {0:0, 1:1}\n",
    "measured_qubit_index_to_output_cbit_index = {q:c for (q, c) in zip(range(num_qubits), range(num_cbits))}\n",
    "# Eg. [0, 1]\n",
    "measured_qubit_indices = list(measured_qubit_index_to_output_cbit_index.keys())\n",
    "# Eg. [0, 1]\n",
    "output_cbit_indices = list(measured_qubit_index_to_output_cbit_index.values())\n",
    "# qc.measure([0, 1], [0, 1])\n",
    "qc.measure(measured_qubit_indices, output_cbit_indices)\n",
    "\n",
    "qc.draw()"
   ]
  },
  {
   "cell_type": "code",
   "execution_count": 82,
   "id": "8fff319f-2fca-43bd-ab06-c01bd3e4592b",
   "metadata": {
    "tags": []
   },
   "outputs": [],
   "source": [
    "# Simulate using QASM\n",
    "backend = Aer.get_backend('qasm_simulator')\n",
    "job = execute(qc, backend=backend, shots=1)"
   ]
  },
  {
   "cell_type": "code",
   "execution_count": 83,
   "id": "5c5e797e-de0a-4ff9-8c47-408f5f7c1ff2",
   "metadata": {
    "tags": []
   },
   "outputs": [
    {
     "data": {
      "text/plain": [
       "Result(backend_name='qasm_simulator', backend_version='0.12.0', qobj_id='', job_id='ce3b9566-bea0-41a0-bf57-4ff81a2677a6', success=True, results=[ExperimentResult(shots=1, success=True, meas_level=2, data=ExperimentResultData(counts={'0x0': 1}), header=QobjExperimentHeader(creg_sizes=[['c', 1]], global_phase=0.0, memory_slots=1, n_qubits=1, name='circuit-108', qreg_sizes=[['q', 1]]), status=DONE, seed_simulator=1241290698, metadata={'noise': 'ideal', 'batched_shots_optimization': False, 'measure_sampling': True, 'parallel_shots': 1, 'remapped_qubits': False, 'active_input_qubits': [0], 'num_clbits': 1, 'parallel_state_update': 8, 'sample_measure_time': 5.895e-06, 'num_qubits': 1, 'device': 'CPU', 'input_qubit_map': [[0, 0]], 'method': 'stabilizer', 'fusion': {'enabled': False}}, time_taken=7.535e-05)], date=2023-03-30T03:18:59.987293, status=COMPLETED, header=None, metadata={'time_taken_execute': 0.000120977, 'mpi_rank': 0, 'num_mpi_processes': 1, 'max_gpu_memory_mb': 0, 'max_memory_mb': 31960, 'parallel_experiments': 1, 'num_processes_per_experiments': 1, 'omp_enabled': True}, time_taken=0.00034499168395996094)"
      ]
     },
     "execution_count": 83,
     "metadata": {},
     "output_type": "execute_result"
    }
   ],
   "source": [
    "# type(job)\n",
    "# dir(job)\n",
    "\n",
    "result = job.result()\n",
    "result\n",
    "# result.results\n",
    "\n",
    "\n",
    "# counts = result.get_counts()"
   ]
  },
  {
   "cell_type": "code",
   "execution_count": 55,
   "id": "082600a2-ecd9-48a2-8060-614850002064",
   "metadata": {
    "tags": []
   },
   "outputs": [
    {
     "data": {
      "text/plain": [
       "['__class__',\n",
       " '__delattr__',\n",
       " '__dict__',\n",
       " '__dir__',\n",
       " '__doc__',\n",
       " '__eq__',\n",
       " '__format__',\n",
       " '__ge__',\n",
       " '__getattr__',\n",
       " '__getattribute__',\n",
       " '__gt__',\n",
       " '__hash__',\n",
       " '__init__',\n",
       " '__init_subclass__',\n",
       " '__le__',\n",
       " '__lt__',\n",
       " '__module__',\n",
       " '__ne__',\n",
       " '__new__',\n",
       " '__reduce__',\n",
       " '__reduce_ex__',\n",
       " '__repr__',\n",
       " '__setattr__',\n",
       " '__sizeof__',\n",
       " '__str__',\n",
       " '__subclasshook__',\n",
       " '__weakref__',\n",
       " '_get_experiment',\n",
       " '_metadata',\n",
       " 'backend_name',\n",
       " 'backend_version',\n",
       " 'data',\n",
       " 'date',\n",
       " 'from_dict',\n",
       " 'get_counts',\n",
       " 'get_memory',\n",
       " 'get_statevector',\n",
       " 'get_unitary',\n",
       " 'header',\n",
       " 'job_id',\n",
       " 'qobj_id',\n",
       " 'results',\n",
       " 'status',\n",
       " 'success',\n",
       " 'to_dict']"
      ]
     },
     "execution_count": 55,
     "metadata": {},
     "output_type": "execute_result"
    }
   ],
   "source": [
    "dir(result)\n",
    "# result.data()"
   ]
  },
  {
   "cell_type": "code",
   "execution_count": 84,
   "id": "abcd13f8-df29-4553-aa4b-9e9ebe1b5610",
   "metadata": {
    "tags": []
   },
   "outputs": [
    {
     "data": {
      "text/plain": [
       "{'counts': {'0x0': 1}}"
      ]
     },
     "execution_count": 84,
     "metadata": {},
     "output_type": "execute_result"
    }
   ],
   "source": [
    "result.data()"
   ]
  },
  {
   "cell_type": "code",
   "execution_count": 85,
   "id": "f2895286-4e34-4b40-abe7-0ea233c4bdc0",
   "metadata": {
    "tags": []
   },
   "outputs": [
    {
     "data": {
      "text/plain": [
       "{'0x0': 1}"
      ]
     },
     "execution_count": 85,
     "metadata": {},
     "output_type": "execute_result"
    }
   ],
   "source": [
    "result.data()['counts']"
   ]
  },
  {
   "cell_type": "code",
   "execution_count": 86,
   "id": "2c86751a-3147-4244-a79d-e92fedbf68b8",
   "metadata": {
    "tags": []
   },
   "outputs": [
    {
     "data": {
      "text/plain": [
       "{'0': 1}"
      ]
     },
     "execution_count": 86,
     "metadata": {},
     "output_type": "execute_result"
    }
   ],
   "source": [
    "counts = result.get_counts()\n",
    "counts"
   ]
  },
  {
   "cell_type": "code",
   "execution_count": 87,
   "id": "491396d4-117e-40c5-92ba-cd4f1b307c57",
   "metadata": {
    "tags": []
   },
   "outputs": [
    {
     "name": "stdout",
     "output_type": "stream",
     "text": [
      "dict_keys(['0'])\n"
     ]
    }
   ],
   "source": [
    "measured_values = counts.keys()\n",
    "print(measured_values)"
   ]
  },
  {
   "cell_type": "code",
   "execution_count": 89,
   "id": "c01e4315-3a4c-479e-8233-82955f88dd6c",
   "metadata": {
    "tags": []
   },
   "outputs": [
    {
     "data": {
      "text/plain": [
       "1"
      ]
     },
     "execution_count": 89,
     "metadata": {},
     "output_type": "execute_result"
    }
   ],
   "source": [
    "len(measured_values)"
   ]
  },
  {
   "cell_type": "code",
   "execution_count": 88,
   "id": "3175bc20-203b-4b19-a441-98da57703179",
   "metadata": {
    "tags": []
   },
   "outputs": [
    {
     "data": {
      "text/plain": [
       "['0']"
      ]
     },
     "execution_count": 88,
     "metadata": {},
     "output_type": "execute_result"
    }
   ],
   "source": [
    "list(measured_values)"
   ]
  }
 ],
 "metadata": {
  "kernelspec": {
   "display_name": "Python 3 (ipykernel)",
   "language": "python",
   "name": "python3"
  },
  "language_info": {
   "codemirror_mode": {
    "name": "ipython",
    "version": 3
   },
   "file_extension": ".py",
   "mimetype": "text/x-python",
   "name": "python",
   "nbconvert_exporter": "python",
   "pygments_lexer": "ipython3",
   "version": "3.10.8"
  },
  "widgets": {
   "application/vnd.jupyter.widget-state+json": {
    "state": {},
    "version_major": 2,
    "version_minor": 0
   }
  }
 },
 "nbformat": 4,
 "nbformat_minor": 5
}
