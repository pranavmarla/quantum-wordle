{
 "cells": [
  {
   "cell_type": "code",
   "execution_count": 1,
   "id": "1aa2aa77-ad9d-4679-bd74-d53dd02f5d9b",
   "metadata": {
    "tags": []
   },
   "outputs": [
    {
     "name": "stdout",
     "output_type": "stream",
     "text": [
      "♞\n",
      "♞\n",
      "True\n"
     ]
    }
   ],
   "source": [
    "# Print Unicode emoji characters\n",
    "# In Unicode, each character is represented by a \"code point\" (\"U+\" followed by the code point value, which is a hexadecimal number)\n",
    "# Eg. Code point \"U+265E\" refers to the \"black chess knight\" character\n",
    "print('\\u265E')\n",
    "print('♞')\n",
    "print('\\u265E' == '♞')"
   ]
  },
  {
   "cell_type": "code",
   "execution_count": 1,
   "id": "ba948d70",
   "metadata": {},
   "outputs": [
    {
     "name": "stdout",
     "output_type": "stream",
     "text": [
      "True\n",
      "True\n",
      "True\n"
     ]
    }
   ],
   "source": [
    "# The coloured squares I'm interested in seem to have longer code points, so, instead of '\\u' followed by 4 digits, need '\\U' followed by 8 digits\n",
    "print('\\U0001F7E9' == '🟩')\n",
    "print('\\U0001F7E8' == '🟨')\n",
    "print('\\U0001F7E5' == '🟥')"
   ]
  }
 ],
 "metadata": {
  "kernelspec": {
   "display_name": "Python 3 (ipykernel)",
   "language": "python",
   "name": "python3"
  },
  "language_info": {
   "codemirror_mode": {
    "name": "ipython",
    "version": 3
   },
   "file_extension": ".py",
   "mimetype": "text/x-python",
   "name": "python",
   "nbconvert_exporter": "python",
   "pygments_lexer": "ipython3",
   "version": "3.10.0"
  },
  "widgets": {
   "application/vnd.jupyter.widget-state+json": {
    "state": {},
    "version_major": 2,
    "version_minor": 0
   }
  }
 },
 "nbformat": 4,
 "nbformat_minor": 5
}
