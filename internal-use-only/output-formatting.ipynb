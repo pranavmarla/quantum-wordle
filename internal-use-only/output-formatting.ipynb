{
 "cells": [
  {
   "cell_type": "code",
   "execution_count": 1,
   "id": "90e08731-4ef0-4631-a53f-097cd4835124",
   "metadata": {
    "tags": []
   },
   "outputs": [
    {
     "name": "stdout",
     "output_type": "stream",
     "text": [
      "\tGuess:\t\tW\tE\tE\tP\tY\n",
      "\tAnswer:\t\tW\tE\tA\tR\tY\n",
      "\tExpected:\t🟩\t🟩\t🟥\t🟥\t🟩\n",
      "\tActual:\t\t🟩\t🟩\t🟨\t🟥\t🟩\n",
      "\n",
      "\tGuess:\t\t W\t E\t E\t P\t Y\n",
      "\tAnswer:\t\t W\t E\t A\t R\t Y\n",
      "\tExpected:\t🟩\t🟩\t🟥\t🟥\t🟩\n",
      "\tActual:\t\t🟩\t🟩\t🟨\t🟥\t🟩\n",
      "\n",
      "\tGuess:\t\t W\t E\t E\t P\t Y\n",
      "\tAnswer:\t\t W\t E\t A\t R\t Y\n",
      "\tExpected:\t🟩 \t🟩 \t🟥 \t🟥 \t🟩 \n",
      "\tActual:\t\t🟩 \t🟩 \t🟨 \t🟥 \t🟩 \n",
      "\n",
      "\tGuess:\t\t W\t E\t E\t P\t Y\n",
      "\tAnswer:\t\t W\t E\t A\t R\t Y\n",
      "\tExpected:\t🟩\t🟩\t🟥\t🟥\t🟩\n",
      "\tActual:\t\t🟩\t🟩\t🟨\t🟥\t🟩\n"
     ]
    }
   ],
   "source": [
    "guess_str = 'weepy'\n",
    "answer_str = 'weary'\n",
    "expected_colour_feedback_str = '🟩🟩🟥🟥🟩'\n",
    "actual_colour_feedback_str = '🟩🟩🟨🟥🟩'\n",
    "\n",
    "print('\\tGuess:\\t\\t{}'.format('\\t'.join(guess_str.upper())))\n",
    "print('\\tAnswer:\\t\\t{}'.format('\\t'.join(answer_str.upper())))\n",
    "print('\\tExpected:\\t{}'.format('\\t'.join(expected_colour_feedback_str)))\n",
    "print('\\tActual:\\t\\t{}'.format('\\t'.join(actual_colour_feedback_str)))\n",
    "\n",
    "print()\n",
    "print('\\tGuess:\\t\\t{:>2}\\t{:>2}\\t{:>2}\\t{:>2}\\t{:>2}'.format('W', 'E', 'E', 'P', 'Y'))\n",
    "print('\\tAnswer:\\t\\t{:>2}\\t{:>2}\\t{:>2}\\t{:>2}\\t{:>2}'.format('W', 'E', 'A', 'R', 'Y'))\n",
    "print('\\tExpected:\\t{}\\t{}\\t{}\\t{}\\t{}'.format('🟩', '🟩', '🟥', '🟥', '🟩'))\n",
    "print('\\tActual:\\t\\t{}\\t{}\\t{}\\t{}\\t{}'.format('🟩', '🟩', '🟨', '🟥', '🟩'))\n",
    "\n",
    "# Same as above -- looks like each colour square already takes up two letters' worth of space!\n",
    "print()\n",
    "print('\\tGuess:\\t\\t{:>2}\\t{:>2}\\t{:>2}\\t{:>2}\\t{:>2}'.format('W', 'E', 'E', 'P', 'Y'))\n",
    "print('\\tAnswer:\\t\\t{:>2}\\t{:>2}\\t{:>2}\\t{:>2}\\t{:>2}'.format('W', 'E', 'A', 'R', 'Y'))\n",
    "print('\\tExpected:\\t{:<2}\\t{:<2}\\t{:<2}\\t{:<2}\\t{:<2}'.format('🟩', '🟩', '🟥', '🟥', '🟩'))\n",
    "print('\\tActual:\\t\\t{:<2}\\t{:<2}\\t{:<2}\\t{:<2}\\t{:<2}'.format('🟩', '🟩', '🟨', '🟥', '🟩'))\n",
    "\n",
    "print()\n",
    "print('\\tGuess:\\t\\t', end='')\n",
    "for char_index, char in enumerate(guess_str):\n",
    "    if char_index != 4:\n",
    "        print('{:>2}\\t'.format(char.upper()), end='')\n",
    "    else:\n",
    "        print('{:>2}'.format(char.upper()))\n",
    "print('\\tAnswer:\\t\\t', end='')\n",
    "for char_index, char in enumerate(answer_str):\n",
    "    if char_index != 4:\n",
    "        print('{:>2}\\t'.format(char.upper()), end='')\n",
    "    else:\n",
    "        print('{:>2}'.format(char.upper()))\n",
    "print('\\tExpected:\\t{}'.format('\\t'.join(expected_colour_feedback_str)))\n",
    "print('\\tActual:\\t\\t{}'.format('\\t'.join(actual_colour_feedback_str)))"
   ]
  }
 ],
 "metadata": {
  "kernelspec": {
   "display_name": "Python 3 (ipykernel)",
   "language": "python",
   "name": "python3"
  },
  "language_info": {
   "codemirror_mode": {
    "name": "ipython",
    "version": 3
   },
   "file_extension": ".py",
   "mimetype": "text/x-python",
   "name": "python",
   "nbconvert_exporter": "python",
   "pygments_lexer": "ipython3",
   "version": "3.10.0"
  },
  "widgets": {
   "application/vnd.jupyter.widget-state+json": {
    "state": {},
    "version_major": 2,
    "version_minor": 0
   }
  }
 },
 "nbformat": 4,
 "nbformat_minor": 5
}
