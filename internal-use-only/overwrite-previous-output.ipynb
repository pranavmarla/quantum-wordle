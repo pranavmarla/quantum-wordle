{
 "cells": [
  {
   "cell_type": "markdown",
   "id": "a8dd3b90-3761-4bb9-8a0b-836626c34890",
   "metadata": {},
   "source": [
    "## Using ANSI codes to move cursor up and clear line\n",
    "\n",
    "Source: https://itnext.io/overwrite-previously-printed-lines-4218a9563527"
   ]
  },
  {
   "cell_type": "code",
   "execution_count": null,
   "id": "7df1d85e-bf90-4363-890a-979e8e837606",
   "metadata": {},
   "outputs": [],
   "source": [
    "LINE_UP = '\\033[1A'\n",
    "LINE_CLEAR = '\\x1b[2K'\n",
    "\n",
    "print('A')\n",
    "print('B')\n",
    "print(LINE_UP, end=LINE_CLEAR)\n",
    "# print(LINE_UP, end='')\n",
    "# print(LINE_UP, end='')\n",
    "print('C')"
   ]
  },
  {
   "cell_type": "markdown",
   "id": "0994fa6d-1d41-4df0-bed7-eaae6f57bcb1",
   "metadata": {},
   "source": [
    "**Result:** Failure. The ANSI codes don't seem to have any effect in this Jupyter notebook"
   ]
  },
  {
   "cell_type": "markdown",
   "id": "47d56f8b-9b52-46d8-b226-c0adb17cf25a",
   "metadata": {},
   "source": [
    "## Using carriage return (\\r) to move cursor back to beginning of line"
   ]
  },
  {
   "cell_type": "code",
   "execution_count": 40,
   "id": "eddf59c5-ee86-4186-89fa-e698e3bfda33",
   "metadata": {
    "tags": []
   },
   "outputs": [
    {
     "name": "stdout",
     "output_type": "stream",
     "text": [
      "DEF"
     ]
    }
   ],
   "source": [
    "from time import sleep\n",
    "\n",
    "items = ['ABC', 'DEF']\n",
    "\n",
    "for _ in range(3):\n",
    "    for item in items:\n",
    "        print(f'\\r{item}', end='')\n",
    "        # Need to sleep after printing each output, otherwise will go by too fast to see each output\n",
    "        sleep(0.3)"
   ]
  },
  {
   "cell_type": "markdown",
   "id": "851bd589-82f5-4d9a-aa1e-d8a0d89d9780",
   "metadata": {},
   "source": [
    "**Result:** Success, but only as long as as our output remains on the same line -- cannot currently move cursor up and overwrite previous line!"
   ]
  },
  {
   "cell_type": "code",
   "execution_count": 18,
   "id": "a31b9cfd-80cb-4483-a9a3-8a668b50f342",
   "metadata": {
    "tags": []
   },
   "outputs": [
    {
     "name": "stdout",
     "output_type": "stream",
     "text": [
      "                       🟩🟨🟥🟨🟩\n",
      "                       -----------\n",
      "                       🟥🟨🟩🟨🟥\n"
     ]
    }
   ],
   "source": [
    "from time import sleep\n",
    "\n",
    "SPACE_CHAR = ' '\n",
    "\n",
    "def print_guess_feedback(feedback_string, space=SPACE_CHAR, output_prefix=''):\n",
    "    \"\"\"Print string of coloured squares, where each coloured square indicates the correctness of the corresponding letter of the guess. Does not print a newline at the end.\"\"\"\n",
    "    print(f'{output_prefix}{space*23}{feedback_string}', end='')\n",
    "    \n",
    "feedback_display_list = ['🟩🟨🟥🟨🟩', '🟥🟨🟩🟨🟥']\n",
    "space = SPACE_CHAR\n",
    "\n",
    "for _ in range(3):\n",
    "    for feedback in feedback_display_list:\n",
    "        # print_guess_feedback(f'\\r{space*23}{feedback}')\n",
    "        print_guess_feedback(feedback, output_prefix='\\r')\n",
    "        sleep(0.3)\n",
    "print('\\r', end='')\n",
    "    \n",
    "for feedback_index, feedback in enumerate(feedback_display_list):\n",
    "    # Print separator above every feedback string, except the first (0th index)\n",
    "    if feedback_index != 0:\n",
    "        print(f'{space*23}-----------')\n",
    "    print_guess_feedback(feedback)\n",
    "    print()"
   ]
  }
 ],
 "metadata": {
  "kernelspec": {
   "display_name": "Python 3 (ipykernel)",
   "language": "python",
   "name": "python3"
  },
  "language_info": {
   "codemirror_mode": {
    "name": "ipython",
    "version": 3
   },
   "file_extension": ".py",
   "mimetype": "text/x-python",
   "name": "python",
   "nbconvert_exporter": "python",
   "pygments_lexer": "ipython3",
   "version": "3.10.8"
  },
  "widgets": {
   "application/vnd.jupyter.widget-state+json": {
    "state": {},
    "version_major": 2,
    "version_minor": 0
   }
  }
 },
 "nbformat": 4,
 "nbformat_minor": 5
}
